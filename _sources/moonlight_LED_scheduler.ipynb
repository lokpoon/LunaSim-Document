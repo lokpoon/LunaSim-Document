{
 "cells": [
  {
   "cell_type": "markdown",
   "id": "e81cdbb0",
   "metadata": {},
   "source": [
    "# LunaSim: Moonlight LED scheduler\n",
    "\n",
    "LunaSim-moonlight LED scheduler is designed to be used in conjunction with the Lightbox system to recreate moonlight illuminance in the lab.\n",
    "\n",
    "LunaSim-moonlight LED scheduler runs the same calculation as the lux calculator to predict moonlight illuminance. However the output is a .csv table of LED intensity values over time. This moon_output.csv contain LED values for each RGBW channels for every minute. The moon_output.csv serves as the schedule for the Lightbox python script to look up.\n",
    "\n",
    "\n",
    "## Key features\n",
    "\n",
    "- Recreate a realistic moonlight cycle in the lab\n",
    "- Option to simulate the obstruction of moonlight by surrounding obstructions (e.g., mountain ranges)\n",
    "- Option to simulate the dimming effects of moving cloud cover\n",
    "- Option to change the LED color spectrum to micmic color shift in habitats (e.g., blue shiftiness of ocean at depth), by controlling the intensity fraction of each RGBW channels"
   ]
  }
 ],
 "metadata": {
  "jupytext": {
   "cell_metadata_filter": "-all",
   "formats": "md:myst",
   "text_representation": {
    "extension": ".md",
    "format_name": "myst",
    "format_version": 0.13,
    "jupytext_version": "1.11.5"
   }
  },
  "kernelspec": {
   "display_name": "Python 3",
   "language": "python",
   "name": "python3"
  },
  "language_info": {
   "codemirror_mode": {
    "name": "ipython",
    "version": 3
   },
   "file_extension": ".py",
   "mimetype": "text/x-python",
   "name": "python",
   "nbconvert_exporter": "python",
   "pygments_lexer": "ipython3",
   "version": "3.10.9"
  },
  "source_map": [
   14
  ]
 },
 "nbformat": 4,
 "nbformat_minor": 5
}