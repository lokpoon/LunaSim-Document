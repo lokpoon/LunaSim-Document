{
 "cells": [
  {
   "cell_type": "markdown",
   "id": "4e361de3",
   "metadata": {},
   "source": [
    "(content:MoonShineR_sun)=\n",
    "# 3. <span style=\"font-variant:small-caps;\">MoonShineR</span>: Sunlight/twilight scheduler\n",
    "\n",
    "- _<span style=\"font-variant:small-caps;\">MoonShineR</span>: Sunlight/twilight scheduler_ is designed to be used in conjunction with _<span style=\"font-variant:small-caps;\">MoonShineP</span>_ to re-create sunlight and twilight cycles in the lab.\n",
    "- _<span style=\"font-variant:small-caps;\">MoonShineR</span>: Sunlight/twilight scheduler_ runs the same set of calculations as _<span style=\"font-variant:small-caps;\">MoonShineR</span>: R package_ to predict sunlight and twilight illuminance. However, unlike in R package, the output table `LED_schedule_sun.csv` contains lists of LED intensity values over time.\n",
    "- Read {ref}`content:MoonShineR_moon` first. Most operations are the same for _<span style=\"font-variant:small-caps;\">MoonShineR</span>: Sunlight & twilight scheduler_.\n",
    "- This section only addresses operations in _<span style=\"font-variant:small-caps;\">MoonShineR</span>: Sunlight & twilight scheduler_ that differ from those in _<span style=\"font-variant:small-caps;\">MoonShineR</span>: Moonlight scheduler_.\n",
    "- Download _<span style=\"font-variant:small-caps;\">MoonShineR</span>: Sunlight/twilight scheduler_ in {ref}`content:lightbox:download`.\n",
    "## Key features\n",
    "\n",
    "- Recreates full daylight and twilight regimes in a laboratory or other indoor environment.\n",
    "- Allows user to specify a geographical location and time period so that the re-created twilight and sunlight reflects real daily and seasonal changes.\n",
    "- Provides option to re-create spectral change according to the sun altitude. The LED will be more red-shifted near sunrise/set, and progressively more blue-shifted during twilight.\n",
    "- Provides option to adjust the LED light spectrum by controlling the relative intensity of each RGBW channel. This can be useful in approximating the color shift of certain habitats (e.g., the blue shift in deep clear ocean or lake water, or the red shift of sodium vapor street lighting).\n",
    "- Re-creates realistic absolute twilight illuminances but recreates sunlight absolute illuminances up to a plateau, with the upper level dependent on the LED array size. \n",
    "\n",
    "##  Workflow\n",
    "\n",
    "```{attention}\n",
    "MoonShineR: Sunlight/twilight scheduler misses some features found in the moonlight scheduler, including elevation effect, horizontal obstruction, and cloud simulation. For sunlight, we believe that applying these features to sunlight is not useful since we cannot foresee the user recreating full sunlight intensity. Therefore, applying these features would not make the re-created lighting more realistic. For twilight, while these features might be applicable to an extent, they are not implemented because twilight is a diffuse light source, unlike direct moonlight, and hence behaves very differently (Seidelmann 1992).\n",
    "```\n",
    "    \n",
    "1. Refer to {ref}`content:MoonShineR_moon` to load packages and then perform steps (1-7) as described to set the user-definable settings (location, time period, etc.) The time_interval_minutes is constrained to a value of one and cannot be changed. The following instructions will cover the settings and functions specific to _<span style=\"font-variant:small-caps;\">MoonShineR</span>: Sunlight & twilight scheduler_.\n",
    "\n",
    "    \n",
    "2. Set the calibration illuminance point. See {ref}`content:lightbox:sun_calibration`.\n",
    "   \n",
    "   ```\n",
    "   theoretical_max <- 600 # (!) Define an intensity upper limit (in lux)\n",
    "   ```\n",
    "   \n",
    "    ```{note}\n",
    "    Even when using numerous daisy-chained LED strips , the re-created sunlight will reach a plateau of maximum illuminance below the intensity of typical natural sunlight not long after/before dawn/dusk. A user could supplement our sunlight and twilight recreation with a powerful commercial sunlight LED array system that starts ramping soon after sunrise and soon before sunset. LED systems with adequate programming of dawn and dusk fading are sold for the poultry and aquaculture industries. \n",
    "    ```\n",
    "\n",
    "3. Specify the number of LEDs per SK6812 LED strip and the number of daisy-chained strips.\n",
    "\n",
    "   ```\n",
    "    diode_per_strip <- 144 # (!) Number of LEDs per strip\n",
    "    strip_count <- 4 # (!) Number of daisy-chained LED strips\n",
    "   ```\n",
    "\n",
    "\n",
    "\n",
    "   \n",
    "4. Specify whether to re-create the spectral change based on the sun altitude, a feature termed 'realistic sunlight'. By enabling this feature, as the sun is low in altitude (around sunrise and sunset), the light will be more red shifted. Shortly after sunset (or before sunrise), the light spectra will quickly become blue shifted and continue this trend progressively as the sun altitude decreases. If realistic sunlight is enabled, it will override and ignore the settings in the next step (step 5) for applying a constant spectral shift.\n",
    "   \n",
    "   ```\n",
    "   realistic_sunlight <- TRUE # (!)\n",
    "   ```\n",
    "\n",
    "    ```{note}\n",
    "    By turning realistic sunlight on, a fraction value (0-1) for each RGBW channel intensity is applied based on the sun altitude at the time. We formulated a function of sun altitude ~ LED intensity for each RGBW channel. These functions are formulated based on our own measured ground spectral irradiance of several sunsets, and Palmer & Johnsen's (2015) twilight spectra. The code that plots these four functions, for visualization purposes, is commented out by default. If the user would like to visualize how the RGBW channels are adjusted based on the sun altitude, run those codes that are near the beginning of the section \"GENERATE twilight_sun_output.csv\"; remove the commenting prompts (# symbols) at the beginning of the line to activate the commented-out lines of code.\n",
    "    ```\n",
    "5. If realistic sunlight is disabled, determine the LED color spectrum by specifying the intensity output (0-1) of each RGBW channel, a feature termed 'spectral control' (i.e., same feature found in _<span style=\"font-variant:small-caps;\">MoonShineR</span>: Moonlight scheduler_). To approximate a natural sunlight spectrum (same setting as moonlight spectrum because the sunlight and moonlight spectra are very similar [Johnsen 2012]), leave this setting at its default value. Note that these default values are intended for the warm white SK6812 LED strips made by BTF lightning. (see {ref}`content:hardware:materials`).\n",
    "\n",
    "   ```\n",
    "    white_fraction <- 1.0 # (!) White. Default = 1.0\n",
    "    red_fraction <- 0.08 # (!) Red. Default = 0.08\n",
    "    green_fraction <- 0.36 # (!) Green. Default = 0.36\n",
    "    blue_fraction <- 0.19 # (!) Blue. Default = 0.19\n",
    "   ```\n",
    "\n",
    "   Go to {ref}`content:rgbw` for details on how to adjust the RGBW intensity output for approximating the spectral-shift characteristics of certain habitats.\n",
    "\n",
    "    \n",
    "6. Run the code in the section “START OF ILLUMINATION COMPUTATION” through to “END OF ILLUMINATION COMPUTATION”. \n",
    "7. Generate a sun schedule file `LED_schedule_sun.csv` by running the codes in the section of \"GENERATE LED_schedule_sun.csv\". And plot (See Steps 10-12 in {ref}`content:luxcalculator`)."
   ]
  }
 ],
 "metadata": {
  "jupytext": {
   "cell_metadata_filter": "-all",
   "formats": "md:myst",
   "text_representation": {
    "extension": ".md",
    "format_name": "myst",
    "format_version": 0.13,
    "jupytext_version": "1.11.5"
   }
  },
  "kernelspec": {
   "display_name": "Python 3",
   "language": "python",
   "name": "python3"
  },
  "language_info": {
   "codemirror_mode": {
    "name": "ipython",
    "version": 3
   },
   "file_extension": ".py",
   "mimetype": "text/x-python",
   "name": "python",
   "nbconvert_exporter": "python",
   "pygments_lexer": "ipython3",
   "version": "3.10.13"
  },
  "source_map": [
   14
  ]
 },
 "nbformat": 4,
 "nbformat_minor": 5
}