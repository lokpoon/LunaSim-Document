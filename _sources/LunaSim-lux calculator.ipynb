{
 "cells": [
  {
   "cell_type": "markdown",
   "id": "e010a3f0",
   "metadata": {},
   "source": [
    "# LunaSim: Lux calculator\n",
    "\n",
    "LunaSim-lux calculator is a standalone R program that predicts ground illuminance (lux) of moonlight. A basic prediction of twilight and sunlight illuminance is also provided as an option.\n",
    "\n",
    "It is intended for use for ecological studies where biologists requires moonlight illuminance as a model predictor.\n",
    "\n",
    "## Key features\n",
    "\n",
    "- Accurate prediction of moonlight illuminance at any geographic location and over any time period\n",
    "- Offers basic prediction of twilight and sunlight illuminance as well\n",
    "- Generates .csv table of illuminance over time\n",
    "- Quickly plot illuminance over time\n",
    "\n",
    ":::{figure-md} markdown-fig\n",
    "<img src=\"images/one_month.png\" alt=\"one_month\" class=\"bg-primary mb-1\" width=\"1000px\">\n",
    "\n",
    "Plot example of moonlight ground illuminance over a month in 2022 in Leticia, Colombia.\n",
    ":::"
   ]
  }
 ],
 "metadata": {
  "jupytext": {
   "cell_metadata_filter": "-all",
   "formats": "md:myst",
   "text_representation": {
    "extension": ".md",
    "format_name": "myst",
    "format_version": 0.13,
    "jupytext_version": "1.11.5"
   }
  },
  "kernelspec": {
   "display_name": "Python 3",
   "language": "python",
   "name": "python3"
  },
  "language_info": {
   "codemirror_mode": {
    "name": "ipython",
    "version": 3
   },
   "file_extension": ".py",
   "mimetype": "text/x-python",
   "name": "python",
   "nbconvert_exporter": "python",
   "pygments_lexer": "ipython3",
   "version": "3.10.9"
  },
  "source_map": [
   14
  ]
 },
 "nbformat": 4,
 "nbformat_minor": 5
}