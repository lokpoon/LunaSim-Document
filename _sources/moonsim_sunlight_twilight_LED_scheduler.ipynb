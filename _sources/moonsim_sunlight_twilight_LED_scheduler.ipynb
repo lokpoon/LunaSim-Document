{
 "cells": [
  {
   "cell_type": "markdown",
   "id": "7a440826",
   "metadata": {},
   "source": [
    "(content:moonsim_sun)=\n",
    "# <span style=\"font-variant:small-caps;\">MoonSim</span>: Sunlight & twilight scheduler\n",
    "\n",
    "- Read {ref}`content:moonsim_moon` first. Most operation is the same for _<span style=\"font-variant:small-caps;\">MoonSim</span>: Sunlight & twilight scheduler_.\n",
    "- This section only address things that _<span style=\"font-variant:small-caps;\">MoonSim</span>: Sunlight & twilight scheduler_ are different from  _<span style=\"font-variant:small-caps;\">MoonSim</span>: Moonlight scheduler_.\n",
    "\n",
    "- **IN PROGRESS**"
   ]
  }
 ],
 "metadata": {
  "jupytext": {
   "cell_metadata_filter": "-all",
   "formats": "md:myst",
   "text_representation": {
    "extension": ".md",
    "format_name": "myst",
    "format_version": 0.13,
    "jupytext_version": "1.11.5"
   }
  },
  "kernelspec": {
   "display_name": "Python 3",
   "language": "python",
   "name": "python3"
  },
  "language_info": {
   "codemirror_mode": {
    "name": "ipython",
    "version": 3
   },
   "file_extension": ".py",
   "mimetype": "text/x-python",
   "name": "python",
   "nbconvert_exporter": "python",
   "pygments_lexer": "ipython3",
   "version": "3.10.9"
  },
  "source_map": [
   14
  ]
 },
 "nbformat": 4,
 "nbformat_minor": 5
}