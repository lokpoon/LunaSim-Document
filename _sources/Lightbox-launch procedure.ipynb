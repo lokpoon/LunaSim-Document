{
 "cells": [
  {
   "cell_type": "markdown",
   "id": "b91ec962",
   "metadata": {},
   "source": [
    "# Lightbox-launch procedure\n",
    "\n",
    "In the previous software setup section, we have created a `lightbox_failsafe.service` that link to the `lightbox.py` located in *Desktop/control*. Instead of launching `lightbox.py` directly, we would launch the `lightbox_failsafe.service` so that the program will relaunch itself upon crashing.\n",
    "\n",
    "## Requirements\n",
    "\n",
    "Things to check before the launch:\n",
    "\n",
    "### 1. LED_schedule.csv\n",
    "\n",
    "- For the `lightbox.py` to run, the `LED_schedule.csv` must contain a row matching the time at launch. Meaning you cannot have a `LED_schedule.csv` where the first row is a time in the future. So, when creating the `LED_schedule.csv`, set the beginning date time ahead of when you will run the script.\n",
    "\n",
    "- It also means that you should not delete entire rows with excel in the middle of the  `LED_schedule.csv`.\n",
    "\n",
    "### 2. Check the location of files\n",
    "\n",
    "- Within *Desktop/control*\n",
    "  \n",
    "  - `lightbox.py`\n",
    "  \n",
    "  - `LED_schedule.csv`\n",
    "\n",
    "### 3. Make sure that the LED strips are not frozen\n",
    "\n",
    "- The LED strip should never be frozen during operation. However, it may become unresponsive after the service file is stopped, or other accidents such as lose connection of the GPIO cable.\n",
    "\n",
    "- We recommend resetting the LED strip before every launch, by unplugging both the power and the GPIO cable, and reconnecting them.\n",
    "\n",
    "## To run `lightbox_failsafe.service`\n",
    "\n",
    "In terminal,\n",
    "\n",
    "1. Enable the service file:\n",
    "   \n",
    "   `sudo systemctl enable lightbox_failsafe.service`\n",
    "\n",
    "2. Check task running and the CPU usage:\n",
    "   \n",
    "   `htop`\n",
    "   \n",
    "   ```{note}\n",
    "   Starting 8 sec before the start of every minutes, one of the CPU core will increase usage to 100%. lightbox_failsafe.service would be listed as the top task in the list. The LED will be be updated a the start of the minute, and CPU usage will return to normal.\n",
    "   ```\n",
    "\n",
    "3. A `LED_history.log` file will be created in *Desktop/control*. This logs allows the user to check what intensities the first 10 LEDs in the array have been instructed to output.\n",
    "\n",
    "4. To stop the service file:\n",
    "   \n",
    "   `systemctl stop lightbox_failsafe.service`\n",
    "   \n",
    "   ```{note}\n",
    "   The LED strip will maintain it's last instructed intensity. Unplug the power cord and GPIO connection to reset it.\n",
    "   ```\n",
    "   \n",
    "   ```{note}\n",
    "   Whenever the Pi is reboot, lightbox_failsafe.service launchs automatically.\n",
    "   ```"
   ]
  }
 ],
 "metadata": {
  "jupytext": {
   "cell_metadata_filter": "-all",
   "formats": "md:myst",
   "text_representation": {
    "extension": ".md",
    "format_name": "myst",
    "format_version": 0.13,
    "jupytext_version": "1.11.5"
   }
  },
  "kernelspec": {
   "display_name": "Python 3",
   "language": "python",
   "name": "python3"
  },
  "language_info": {
   "codemirror_mode": {
    "name": "ipython",
    "version": 3
   },
   "file_extension": ".py",
   "mimetype": "text/x-python",
   "name": "python",
   "nbconvert_exporter": "python",
   "pygments_lexer": "ipython3",
   "version": "3.10.9"
  },
  "source_map": [
   14
  ]
 },
 "nbformat": 4,
 "nbformat_minor": 5
}