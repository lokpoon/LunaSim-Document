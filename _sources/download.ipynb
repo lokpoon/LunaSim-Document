{
 "cells": [
  {
   "cell_type": "markdown",
   "id": "1e63b9a6",
   "metadata": {},
   "source": [
    "(content:lightbox:download)=\n",
    "# Download files\n",
    "All the required files are hosted on this GitHub site:\n",
    "[https://github.com/Crampton-Lab/MoonShine](https://github.com/Crampton-Lab/MoonShine)\n",
    "\n",
    "Files of folder or script are zipped for easier download.\n",
    "1. To download a file, click the file name.\n",
    "2. Click the download button.\n",
    "3. Unzip the download file if the file is in `.zip`\n",
    "\n",
    "Throughout this guide we have linked a few external tutorial websites. If any of the links are not working, pdf snapshots of the sites are available in the GitHub repository."
   ]
  }
 ],
 "metadata": {
  "jupytext": {
   "cell_metadata_filter": "-all",
   "formats": "md:myst",
   "text_representation": {
    "extension": ".md",
    "format_name": "myst",
    "format_version": 0.13,
    "jupytext_version": "1.11.5"
   }
  },
  "kernelspec": {
   "display_name": "Python 3",
   "language": "python",
   "name": "python3"
  },
  "language_info": {
   "codemirror_mode": {
    "name": "ipython",
    "version": 3
   },
   "file_extension": ".py",
   "mimetype": "text/x-python",
   "name": "python",
   "nbconvert_exporter": "python",
   "pygments_lexer": "ipython3",
   "version": "3.10.12"
  },
  "source_map": [
   14
  ]
 },
 "nbformat": 4,
 "nbformat_minor": 5
}