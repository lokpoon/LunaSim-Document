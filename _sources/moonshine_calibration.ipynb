{
 "cells": [
  {
   "cell_type": "markdown",
   "id": "0c2d5b87",
   "metadata": {},
   "source": [
    "(content:lightbox:calibration)=\n",
    "# <span style=\"font-variant:small-caps;\">MoonShine</span>: Calibration\n",
    "\n",
    "## Moonlight recreation\n",
    "- To achieve moonlight level illuminance, the LED arrays must be physically dimmed. We use ND filter on the lightbox to reduce the light intensity without modifying the color spectrum ({numref}`box`).\n",
    "\n",
    "- The user must first decide whether to recreate unobstructed ground illumination (i.e., a simulation in which there is no additional dimming), or a lower intensity to resembles the attenuation level in the desired natural habitat. Of course, the unobstructed ground illumination target varies according to the user's intended location and time as describe in {ref}`content:luxcalculator`\n",
    "\n",
    "\n",
    "### Which ND filter sheets?\n",
    "To make an informed decision on what combination of ND filter sheets is need for the user's specific room and setup.\n",
    "\n",
    "1. In _<span style=\"font-variant:small-caps;\">MoonSim</span>: Lux caculator_, simulate what is the brightest moonlight illuminance expected. Note down all of the eight LED values (the crude and fine values of the RGBW channels) at that moment.\n",
    "2. Set the lightbox at their permanent locations. Ideally each lightbox on a shelf on both sides of the room, so that the light is directed to the ceiling and diffusely illuminate the entire room.\n",
    "3. To instruct the LED strips to light up at the intensity during that brightest moment: Generate a `LED_schedule.csv` with a duration of one day. In Excel, replace the eight LED value columns in `LED_schedule.csv` with that set of brightest values.\n",
    "4. Using a radiometer, measure the illuminance at the position of the animal enclosure. Let's say that it measures 100 lx. \n",
    "    - To target a full moon illuminance (e.g.,0.25 lx), based on the transmission of the ND filter:\n",
    "    - Lee ND filter sheet lineup:\n",
    "        - Lee 298 (ND 0.15, ½ Stop) = Transmission 69.3%\n",
    "        - Lee 209 (ND 0.3, 1 Stop) = Transmission 51.2%\n",
    "        - Lee 210 (ND 0.6, 2 Stop) = Transmission 23.5%\n",
    "        - Lee 211 (ND 0.9, 3 Stop) = Transmission 13.7%\n",
    "        - Lee 299 (ND 1.2, 4 Stop) = Transmission 6.6%\n",
    "    - In theory, using two sheets of 4 Stop ND: 100 lx × 6.6% × 6.6% = 0.44 lx \n",
    "    - Adding one sheet of ½ Stop ND: 0.44 lx × 69.3% = 0.30 lx\n",
    "    - Use ND sheets if further dimming is needed to recreate a lower illuminance.\n",
    "    - The above calculation is only to get an idea of which ND filter to buy. Next we must calibrate _<span style=\"font-variant:small-caps;\">MoonShine</span>_ by measuring the illuminance.\n",
    "\n",
    "(content:lightbox:radiometer)=\n",
    "###  Calibrating <span style=\"font-variant:small-caps;\">MoonShine</span> with a radiometer\n",
    "- The calibration method depends on whether a low light sensitive radiometer (able to accurately measure 0.01 lx) is available.\n",
    "    - If available, instruct _<span style=\"font-variant:small-caps;\">MoonShine</span>_ to generate a full moon illuminance, and layer filters on the lightbox until the illuminance (radiometer sensor placed on the ground of animal housing) reads the desire illuminance. If the measured illuminance is slightly higher than the target, and adding an additional filter dims it too much, we would fine tune the illuminance in _<span style=\"font-variant:small-caps;\">MoonSim</span>: Moonlight led scheduler_ by reducing the LED intensity. With this approach, we can slightly dim 0.3 lx to the 0.25 lx target (in the above example).\n",
    "    - If only a non-low light sensitive radiometer is available:\n",
    "        1. The user would instead measure the room illuminance with no filter applied. Then repeat the measurement but now with the radiometer pointing directly at the LED light at a close fixed distance.\n",
    "        2. The ratio between the room illuminance and direct illuminance should remain relatively constant as more filters are applied.\n",
    "        3. Hence, user can estimate how many layers of filter is required to reduce the illuminance to reach the target.\n",
    "\n",
    "```{figure} /images/10days.png\n",
    ":name: 10days\n",
    "\n",
    "_<span style=\"font-variant:small-caps;\">MoonShine</span>_ performance in recreating moonlight illuminance level after calibration. MoonSim prediction (black line) and measeured recreated illuminance (red line). Both lines mostly overlaps. Test performed in a lab setting, running a simulated LED schedule for 9 nights around a full moon.\n",
    "```\n",
    "## Sunlight and twilight recreation\n",
    "\n",
    "- To achieve sunlight level illuminance, we do not need any dimming.\n",
    "- The user must first decide what level of sunlight illuminance is required. Direct overhead sunlight can be over 100,000 lx. Therefore it is probably impractical and unnecessary to recreate such level of illuminance.\n",
    "- We recommend the recreation of sunlight at >200 lx, since 200 lx is approximately the illuminance when the sun is at the horizon. This means that if the light can not achieve 200 lx, _<span style=\"font-variant:small-caps;\">MoonShine</span>_ is not even recreating the full range of twilight illuminance.\n",
    "- The LED strip can be adhered on the ceiling to illuminate the room like a florescent light fixture, or it could be adhered directly above the animal enclosure to provide a much stronger light intensity. As a reference, illuminance measurement at 50cm from an LED strip is around 1000 lx. \n",
    "\n",
    "### Using more LED strips\n",
    "- Two LED strips may not be enough in recreating the desired illuminance, but more LED strips can be daisy chained together by:\n",
    "    - Connect additional LED strips by following {numref}`schematic`\n",
    "    - On the software side, edit the `main.c` as described here in step 11 of {ref}`content:lightbox:lednumber`\n",
    "    - And edit the `lightbox.py` as described here step 3 of {ref}`content:lightbox:lednumber2`\n",
    "    - When generating the `LED_schedule.csv` from _<span style=\"font-variant:small-caps;\">MoonSim</span>_ LED schedulers, put in the correct number of LED strips."
   ]
  }
 ],
 "metadata": {
  "jupytext": {
   "cell_metadata_filter": "-all",
   "formats": "md:myst",
   "text_representation": {
    "extension": ".md",
    "format_name": "myst",
    "format_version": 0.13,
    "jupytext_version": "1.11.5"
   }
  },
  "kernelspec": {
   "display_name": "Python 3",
   "language": "python",
   "name": "python3"
  },
  "language_info": {
   "codemirror_mode": {
    "name": "ipython",
    "version": 3
   },
   "file_extension": ".py",
   "mimetype": "text/x-python",
   "name": "python",
   "nbconvert_exporter": "python",
   "pygments_lexer": "ipython3",
   "version": "3.10.9"
  },
  "source_map": [
   14
  ]
 },
 "nbformat": 4,
 "nbformat_minor": 5
}