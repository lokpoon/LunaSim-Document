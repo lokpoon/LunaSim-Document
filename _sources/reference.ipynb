{
 "cells": [
  {
   "cell_type": "markdown",
   "id": "9fa1a1fb",
   "metadata": {},
   "source": [
    "# References\n",
    "\n",
    "- Costa, M. P. F., Novo, E. M. L. M., & Telmer, K. H. (2013). Spatial and temporal variability of light attenuation in large rivers of the Amazon. Hydrobiologia, 702(1), 171–190. https://doi.org/10.1007/s10750-012-1319-2\n",
    "- Hänel, A., Posch, T., Ribas, S. J., Aubé, M., Duriscoe, D., Jechow, A., Kollath, Z., Lolkema, D. E., Moore, C., Schmidt, N., Spoelstra, H., Wuchterl, G., & Kyba, C. C. M. (2018). Measuring night sky brightness: Methods and challenges. Journal of Quantitative Spectroscopy and Radiative Transfer, 205, 278–290. https://doi.org/10.1016/j.jqsrt.2017.09.008\n",
    "- Inger, R., Bennie, J., Davies, T. W., & Gaston, K. J. (2014). Potential biological and ecological effects of flickering artificial light. PLoS ONE, 9(5), e98631. https://doi.org/10.1371/journal.pone.0098631\n",
    "- Jerlov, N. G. (1976). Marine optics. Elsevier Scientific Pub. Co.\n",
    "- Johnsen, S. (2012). The Optics of Life: A Biologist’s Guide to Light in Nature. Princeton University Press.\n",
    "- Palmer, G., & Johnsen, S. (2015). Downwelling spectral irradiance during evening twilight as a function of the lunar phase. Applied Optics, 54(4), B85–B92. https://doi.org/10.1364/AO.54.000B85\n",
    "- Seidelmann, P. K. (1992). Explanatory supplement to the Astronomical almanac (Rev. ed.). University Science Books.\n",
    "- Veilleux, C. C., & Cummings, M. E. (2012). Nocturnal light environments and species ecology: Implications for nocturnal color vision in forests. Journal of Experimental Biology, 215(23), 4085–4096. https://doi.org/10.1242/jeb.071415"
   ]
  }
 ],
 "metadata": {
  "jupytext": {
   "cell_metadata_filter": "-all",
   "formats": "md:myst",
   "text_representation": {
    "extension": ".md",
    "format_name": "myst",
    "format_version": 0.13,
    "jupytext_version": "1.11.5"
   }
  },
  "kernelspec": {
   "display_name": "Python 3",
   "language": "python",
   "name": "python3"
  },
  "language_info": {
   "codemirror_mode": {
    "name": "ipython",
    "version": 3
   },
   "file_extension": ".py",
   "mimetype": "text/x-python",
   "name": "python",
   "nbconvert_exporter": "python",
   "pygments_lexer": "ipython3",
   "version": "3.10.12"
  },
  "source_map": [
   14
  ]
 },
 "nbformat": 4,
 "nbformat_minor": 5
}