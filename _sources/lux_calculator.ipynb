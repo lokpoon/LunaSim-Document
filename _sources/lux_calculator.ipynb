{
 "cells": [
  {
   "cell_type": "markdown",
   "id": "f9605f93",
   "metadata": {},
   "source": [
    "# LunaSim: Lux calculator\n",
    "\n",
    "**LunaSim-Lux calculator** is a R program that predicts ground illuminance (lux) of moonlight. A basic prediction of twilight and sunlight illuminance is also provided as an option.\n",
    "\n",
    "It is intended for use for ecological studies where biologists requires moonlight illuminance as a model predictor.\n",
    "\n",
    "## Key features\n",
    "\n",
    "- Accurate prediction of moonlight illuminance at any geographic location and over any time period\n",
    "- Offers basic prediction of twilight and sunlight illuminance as well\n",
    "- Generates .csv table of illuminance over time\n",
    "- Quickly plot illuminance over time\n",
    "\n",
    "```{figure} /images/one_month.png\n",
    ":name: one_month\n",
    "\n",
    "Plot example of moonlight ground illuminance over a month in 2022 in Leticia, Colombia.\n",
    "```\n",
    "\n",
    "##  Packages required\n",
    "- `library(suncalc)` Calculate astronomical variables given a time and location, including moon phase, moon altitude, sun altitude, the Moon and Earth distance\n",
    "- `library(dplyr)` Data wrangling\n",
    "- `library(lubridate)` Makes datetime format easier to work with\n",
    "- `library(REdaS)` Convert between degree angle and radian\n",
    "- `library(npreg)` Fit smoothing spline\n",
    "- `library(ggplot2)` Create plots\n",
    "- `library(beepr)` Makes a notification sound\n",
    "\n",
    "##  Workflow\n",
    "1. Set the time period and location.\n",
    "2. Set the simulation time interval (i.e., the temporal resolution).\n",
    "3. Save a lux_prediction.csv, containing the illuminance prediction over time.\n",
    "4. Save a plot of the illuminance prediction over time."
   ]
  }
 ],
 "metadata": {
  "jupytext": {
   "cell_metadata_filter": "-all",
   "formats": "md:myst",
   "text_representation": {
    "extension": ".md",
    "format_name": "myst",
    "format_version": 0.13,
    "jupytext_version": "1.11.5"
   }
  },
  "kernelspec": {
   "display_name": "Python 3",
   "language": "python",
   "name": "python3"
  },
  "language_info": {
   "codemirror_mode": {
    "name": "ipython",
    "version": 3
   },
   "file_extension": ".py",
   "mimetype": "text/x-python",
   "name": "python",
   "nbconvert_exporter": "python",
   "pygments_lexer": "ipython3",
   "version": "3.10.9"
  },
  "source_map": [
   14
  ]
 },
 "nbformat": 4,
 "nbformat_minor": 5
}