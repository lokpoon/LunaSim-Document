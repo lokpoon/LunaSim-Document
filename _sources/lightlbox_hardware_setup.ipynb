{
 "cells": [
  {
   "cell_type": "markdown",
   "id": "98aca03b",
   "metadata": {},
   "source": [
    "# LS-lightbox: Hardware setup\n",
    "\n",
    "\n",
    "| Item  | SKU/model number | Company  | Quantity required | Price | Link   | Note |\n",
    "|-------|------------------|----------|-------------------|-------|--------|------|\n",
    "| Raspberry Pi 4 model B kit | XXX | GeeekPi | 1 | $200 | [Amazon](https://www.amazon.com/GeeekPi-Raspberry-2GB-Starter-Kit/dp/B0B7DFF7TY/ref=sr_1_5?crid=1BQNGTSE4SSDJ&keywords=raspberry+pi+4+kit&qid=1674623289&sprefix=raspberry+pi+4+kit%2Caps%2C121&sr=8-5&ufe=app_do%3Aamzn1.fos.f5122f16-c3e8-4386-bf32-63e904010ad0) | [1] |\n",
    "| RTC module (DS3231) | 3-01-1198 | HiLetgo | 1 | $ | [Amazon](https://www.amazon.com/HiLetgo-DS3231-Precision-Arduino-Raspberry/dp/B01N1LZSK3/ref=sr_1_2?crid=33U6N5U6HSRWK&keywords=rtc+ds+3231&qid=1674685955&sprefix=rtc+ds+3231%2Caps%2C72&sr=8-2) | - |\n",
    "| Generic ouse and keyboard | - | - | 1 | ~40 | - | - |\n",
    "| Generic HDMI monitor | - | - | 1 | ~$100 | - | - |\n",
    "| SK6812 RGBW LED strip | SK68121M144-RGBWWW65 | BTF-Lighting | At least 2 | $35 | [Amazon](https://www.amazon.com/BTF-LIGHTING-Individually-Addressable-Flexible-Waterproof/dp/B01N2PCIB9/ref=sr_1_6?crid=3OWYKHJC7QV57&keywords=sk6812%2Bwarm&qid=1674596692&sprefix=sk6812%2Bwarm%2Caps%2C104&sr=8-6&th=1) | [2] |\n",
    "| 2.54mm pitch crimp connector kit | XXX | OCR | 1 | $12 |[ Amazon ](https://www.amazon.com/OCR-Connector-Housing-Assortment-640Pcs-Set/dp/B071JLCFT6/ref=sr_1_15?crid=1RCAOTD9CWZTD&keywords=gpio+connector+kit&qid=1674669821&sprefix=gpio+connector+kit%2Caps%2C91&sr=8-15)| - |\n",
    "| 3 Pin JST SM connector cable (pack of 2m x 4) | HL-LED79 | Hualand | At least 1 | $12 |[ Amazon ](https://www.amazon.com/Connector-WS2812B-Symphony-connectors%EF%BC%8CSM3P-controller/dp/B07G6PRDBQ/ref=sr_1_11?keywords=jst+3+pin+connector&qid=1674670291&sprefix=JST+3+pin+conn%2Caps%2C105&sr=8-11)| [3] |\n",
    "| 5V10A DC power adapter | P5V10A | BTF-Lighting | One per LED strip | $22 |[ Amazon ](https://www.amazon.com/BTF-LIGHTING-Plastic-Adapter-Transformer-WS2812B/dp/B01D8FM71S?ref_=ast_sto_dp&th=1)| - |\n",
    "| Lumber boards | - | Home Depot | One set per LED strip | $17 | - | [4] |\n",
    "| Generic black spray paint | - | - | 1 | $6 | - | - |\n",
    "| Neutral Density (ND) filter sheets | - | Lee Filters | Depends | ~$20 per diffusion box | [BarnDoor](https://www.filmandvideolighting.com/lee-neutral-denisty-nd-gel-filter-sheet-film-video-photo-lighting.html) | [5] |\n",
    "| Lux meter/radiometer/spectrometer | - | - | 1 | $200 to >5000 | - | [6] |\n",
    "| UPS backup battery power | BE425M | APC | 1 | $60 | [Amazon](https://www.amazon.com/APC-Battery-Protector-Back-UPS-BE425M/dp/B01HDC236Q/ref=sr_1_7?keywords=uninterruptible%2Bpower%2Bsupply&qid=1674685859&sprefix=uninter%2Caps%2C105&sr=8-7&ufe=app_do%3Aamzn1.fos.006c50ae-5d4c-4777-9bc0-4513d670b6bc&th=1) | - |\n",
    "|  |  |  |  | $ |  |  |\n",
    "|  |  |  |  | $ |  |  |\n",
    "\n",
    "```{note}\n",
    "Estimated total for one LS-lightbox system (excluding the illuminance meter) = $637\n",
    "```\n",
    "\n",
    "*[1] Equivalent kit of the Raspberry Pi 4 model B from any company would work. Beside the Pi itself, the kit should include all the accessories such as cable, power supply, case, SD card, etc. You only need the 2GB RAM option, but you can opt for more RAM (4GB or 8GB) if budget allows.\n",
    "\n",
    "You only need one Pi for moonlight recreation or sunlight and twilight recreation. You can use two Pi in conjunction to recreate both.\n",
    "\n",
    "*[2] We recommend the following options: 1m, 144 LED, Warm White. There is also the option of IP65 water resistant and IP30 normal version, choose the one more suitable for your application. Choose warm white because we do not want the big blue spike in the white channel spectrum. You can pick a different length and LED number as needed, but we believe 1m 144 LED is the best suited for most situations.\n",
    "\n",
    "You need two LED strips to start. You can add more in multiple of two to daisy chain a lot more strips, e.g., when trying to recreate more closely to sunlight illuminance.\n",
    "\n",
    "*[3] Buy enough connector cable so that you can daisy chain LED strips across the room.\n",
    "\n",
    "*[4] These are the lumber board dimensions for building one diffusion box:\n",
    "- Base: One of 5/4\" x 6\" x 4' [home depot](https://www.homedepot.com/p/WeatherShield-5-4-in-x-6-in-x-4-ft-Premium-Ground-Contact-Pressure-Treated-Decking-Board-253944/300526781) ($6)\n",
    "- Two Sides: Two of 1\" x 4\" x 4' [home depot](https://www.homedepot.com/p/WeatherShield-1-in-x-4-in-x-4-ft-Appearance-Grade-Pressure-Treated-Board-275086/300573653) ($7.4)\n",
    "- End caps: Cut down a 1\" x 4\" x 4' [home depot](https://www.homedepot.com/p/WeatherShield-1-in-x-4-in-x-4-ft-Appearance-Grade-Pressure-Treated-Board-275086/300573653) ($3.7)\n",
    "\n",
    "*[5] The ND filter you will need depends on your starting (no filter) illuminance. You'll likely need two or three filters per diffusion box. See \"LS-lightbox: calibration\".\n",
    "\n",
    "Lee ND filter sheet lineup:\n",
    "Lee 298 (ND 0.15, ½ Stop) = Transmission 69.3%\n",
    "Lee 209 (ND 0.3, 1 Stop) = Transmission 51.2%\n",
    "Lee 210 (ND 0.6, 2 Stop) = Transmission 23.5%\n",
    "Lee 211 (ND 0.9, 3 Stop) = Transmission 13.7%\n",
    "Lee 299 (ND 1.2, 4 Stop) = Transmission 6.6%\n",
    "\n",
    "*[6] Lux meter is just a commercial term for radiometer, both measure illuminance in lx. We need to measure the illuminance of the LED for calibrating it. Spectrometer is like an upgraded radiometer. It measures spectral irradiance, giving you spectral information about the light. And spectral irradiance measurements can be easily converted into illuminance. Spectrometer is generally high cost.\n",
    "\n",
    "An accurate illuminance measuring device is critical for calibrating LS-lightbox, but a good one designed for low light is expensive. We do not want the cost of a good radiometer to discourage the use of LS-lightbox for moonlight experiments. Still, you should certainly get a meter that has NIST-Traceable calibration, like this [ILT10C](https://www.intl-lighttech.com/products/ilt10c-luxlight-meter-nist-traceable-calibration?gclid=Cj0KCQiAw8OeBhCeARIsAGxWtUzB0YaQDpYF5fXMYee-U9zSQgnbmph4LrlmD0inkbSdw4FtaJ-AjjsaApwYEALw_wcB). Lower cost meters can not measure at moonlight illuminance level (i.e., >0.3lux), still we can calibrate the LS-lightbox. Please see further explanations and solutions in the \"LS-lightbox calibration\" section.\n",
    "\n",
    "For us, we use the International Light Technology [ILT-5000](https://www.intl-lighttech.com/products/ilt5000-researchlab-radiometer) radiometer, with a SUD100/U detector equipped with Y4 photopic filter (total ~$4000).\n",
    "\n",
    "\n",
    "## Assemble Pi and LED strips\n",
    "\n",
    ":::{figure-md} markdown-fig\n",
    "<img src=\"images/raspberry-pi.png\" alt=\"schematic\" class=\"bg-primary mb-1\" width=\"1000px\">\n",
    "\n",
    "Connection diagram for the Pi and LED strips. Wire colors according to SK6812 made by BTF-Lighting, Guangdong, China.  \n",
    ":::\n",
    "\n",
    ":::{figure-md} markdown-fig\n",
    "<img src=\"images/diffusion_box.png\" alt=\"box\" class=\"bg-primary mb-1\" width=\"1000px\">\n",
    "\n",
    "Construction of a diffusion box housing one LED strip.\n",
    ":::"
   ]
  }
 ],
 "metadata": {
  "jupytext": {
   "cell_metadata_filter": "-all",
   "formats": "md:myst",
   "text_representation": {
    "extension": ".md",
    "format_name": "myst",
    "format_version": 0.13,
    "jupytext_version": "1.11.5"
   }
  },
  "kernelspec": {
   "display_name": "Python 3",
   "language": "python",
   "name": "python3"
  },
  "language_info": {
   "codemirror_mode": {
    "name": "ipython",
    "version": 3
   },
   "file_extension": ".py",
   "mimetype": "text/x-python",
   "name": "python",
   "nbconvert_exporter": "python",
   "pygments_lexer": "ipython3",
   "version": "3.10.9"
  },
  "source_map": [
   14
  ]
 },
 "nbformat": 4,
 "nbformat_minor": 5
}